{
  "metadata": {
    "language_info": {
      "codemirror_mode": {
        "name": "python",
        "version": 3
      },
      "file_extension": ".py",
      "mimetype": "text/x-python",
      "name": "python",
      "nbconvert_exporter": "python",
      "pygments_lexer": "ipython3",
      "version": "3.8"
    },
    "kernelspec": {
      "name": "python",
      "display_name": "Python (Pyodide)",
      "language": "python"
    }
  },
  "nbformat_minor": 4,
  "nbformat": 4,
  "cells": [
    {
      "cell_type": "raw",
      "source": "normal function with init in genral way",
      "metadata": {}
    },
    {
      "cell_type": "code",
      "source": "class pwskills:\n    def __init__(self,name,email_id):\n        self.name = name\n        self.email_id = email_id\n    def student_details(self):\n        print(self.name , self.email_id)",
      "metadata": {
        "trusted": true
      },
      "execution_count": 1,
      "outputs": []
    },
    {
      "cell_type": "code",
      "source": "pw = pwskills(\"Dwaipayan\",\"rup@gmail.com\")\npw.name\n",
      "metadata": {
        "trusted": true
      },
      "execution_count": 2,
      "outputs": [
        {
          "execution_count": 2,
          "output_type": "execute_result",
          "data": {
            "text/plain": "'Dwaipayan'"
          },
          "metadata": {}
        }
      ]
    },
    {
      "cell_type": "code",
      "source": "pw.email_id",
      "metadata": {
        "trusted": true
      },
      "execution_count": 3,
      "outputs": [
        {
          "execution_count": 3,
          "output_type": "execute_result",
          "data": {
            "text/plain": "'rup@gmail.com'"
          },
          "metadata": {}
        }
      ]
    },
    {
      "cell_type": "code",
      "source": "pw.student_details()",
      "metadata": {
        "trusted": true
      },
      "execution_count": 6,
      "outputs": [
        {
          "name": "stdout",
          "text": "Dwaipayan rup@gmail.com\n",
          "output_type": "stream"
        }
      ]
    },
    {
      "cell_type": "code",
      "source": "#This is using class method()",
      "metadata": {
        "trusted": true
      },
      "execution_count": 7,
      "outputs": []
    },
    {
      "cell_type": "code",
      "source": "class pwskills1:\n    def __init__(self,name,email_id):\n        self.name = name\n        self.email_id = email_id\n    @classmethod    \n    def details(cls, name , email):\n        return cls(name , email)\n    def student_details(self):\n        print(self.name , self.email_id)\npw1 = pwskills1.details(\"sudh\", \"sudh@gmail.com\")        ",
      "metadata": {
        "trusted": true
      },
      "execution_count": 9,
      "outputs": [
        {
          "execution_count": 9,
          "output_type": "execute_result",
          "data": {
            "text/plain": "<__main__.pwskills1 at 0x26a95c8>"
          },
          "metadata": {}
        }
      ]
    },
    {
      "cell_type": "code",
      "source": "pw1.student_details()",
      "metadata": {
        "trusted": true
      },
      "execution_count": 17,
      "outputs": [
        {
          "name": "stdout",
          "text": "sudh sudh@gmail.com\n",
          "output_type": "stream"
        }
      ]
    },
    {
      "cell_type": "code",
      "source": "class pwskills1:\n\n    def __init__(self, name, email_id):\n        self.name = name\n        self.email_id = email_id\n\n    @classmethod\n    def details(cls, name, email):\n        pw1 = cls(name, email)\n        return pw1\n\n    def student_details(self):\n        print(self.name, self.email_id)\n\n# Create object via classmethod \npw1 = pwskills1.details(\"sudh\", \"sudh@gmail.com\") ",
      "metadata": {
        "trusted": true
      },
      "execution_count": 16,
      "outputs": []
    },
    {
      "cell_type": "code",
      "source": "class pwskills4:\n    mobile_num = 12121212\n    def __init__(self,name,email_id):\n        self.name = name\n        self.email_id = email_id\n    @classmethod  \n    def details(cls, name , email):\n        return cls(name , email)\n    def student_details(self):\n        print(self.name , self.email_id)",
      "metadata": {
        "trusted": true
      },
      "execution_count": 18,
      "outputs": []
    },
    {
      "cell_type": "code",
      "source": "def course_details(self,course_name):\n    print(\"course name is \" , course_name)\npwskills4.course_details = classmethod(course_details)\npwskills4.course_details(\"data science\")",
      "metadata": {
        "trusted": true
      },
      "execution_count": 19,
      "outputs": [
        {
          "name": "stdout",
          "text": "course name is  data science\n",
          "output_type": "stream"
        }
      ]
    },
    {
      "cell_type": "code",
      "source": "",
      "metadata": {},
      "execution_count": null,
      "outputs": []
    }
  ]
}