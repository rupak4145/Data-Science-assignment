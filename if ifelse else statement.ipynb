{
 "cells": [
  {
   "cell_type": "code",
   "execution_count": 1,
   "id": "6ce24ce5-51f4-426d-b212-0d3f954eda27",
   "metadata": {},
   "outputs": [],
   "source": [
    "a = 10"
   ]
  },
  {
   "cell_type": "code",
   "execution_count": 2,
   "id": "ee088c41-f921-4717-8eb3-e598cc0c0e83",
   "metadata": {},
   "outputs": [],
   "source": [
    "a = a + 2"
   ]
  },
  {
   "cell_type": "code",
   "execution_count": 3,
   "id": "e2b44ef4-f2e2-47e6-9e3f-222ce0a89365",
   "metadata": {},
   "outputs": [
    {
     "data": {
      "text/plain": [
       "12"
      ]
     },
     "execution_count": 3,
     "metadata": {},
     "output_type": "execute_result"
    }
   ],
   "source": [
    "a"
   ]
  },
  {
   "cell_type": "code",
   "execution_count": 4,
   "id": "911bd43b-b5f6-4aff-8ded-6be1d8cea341",
   "metadata": {},
   "outputs": [],
   "source": [
    "a +=1"
   ]
  },
  {
   "cell_type": "code",
   "execution_count": 5,
   "id": "f0d1d010-56c5-4535-9051-a6596e83215c",
   "metadata": {},
   "outputs": [
    {
     "data": {
      "text/plain": [
       "13"
      ]
     },
     "execution_count": 5,
     "metadata": {},
     "output_type": "execute_result"
    }
   ],
   "source": [
    "a"
   ]
  },
  {
   "cell_type": "code",
   "execution_count": 6,
   "id": "44d89d74-ea21-4e2c-bf0e-56c32d321020",
   "metadata": {},
   "outputs": [
    {
     "name": "stdout",
     "output_type": "stream",
     "text": [
      "checking if a is lesser than or equal to 10\n"
     ]
    }
   ],
   "source": [
    "a = 10\n",
    "if a > 10 :\n",
    "    print(\"Enter no is greater than 10\")\n",
    "elif a <=10 :\n",
    "    print(\"checking if a is lesser than or equal to 10\")\n",
    "else :\n",
    "    print(\"will be execute when a is either not greater or equal to 10\")"
   ]
  },
  {
   "cell_type": "code",
   "execution_count": 9,
   "id": "7182ae3a-c6c6-46a4-868e-a4e2ec999ec1",
   "metadata": {},
   "outputs": [
    {
     "name": "stdin",
     "output_type": "stream",
     "text": [
      "Enter a value for a 23\n"
     ]
    },
    {
     "name": "stdout",
     "output_type": "stream",
     "text": [
      "Enter no is greater than 10\n"
     ]
    }
   ],
   "source": [
    "a = int(input(\"Enter a value for a\"))\n",
    "if a > 10 :\n",
    "    print(\"Enter no is greater than 10\")\n",
    "elif a <=10 :\n",
    "    print(\"checking if a is lesser than or equal to 10\")\n",
    "else :\n",
    "    print(\"will be execute when a is either not greater or equal to 10\")"
   ]
  },
  {
   "cell_type": "code",
   "execution_count": 12,
   "id": "09d3b157-d738-4174-82c6-4f638d5053f4",
   "metadata": {},
   "outputs": [
    {
     "name": "stdout",
     "output_type": "stream",
     "text": [
      "1\n",
      "2\n",
      "3\n",
      "4\n",
      "5\n",
      "6\n",
      "7\n",
      "8\n",
      "9\n",
      "this will complete while execution\n"
     ]
    }
   ],
   "source": [
    "n = 10\n",
    "a = 1\n",
    "while a < n :\n",
    "        print(a)\n",
    "        a = a +1\n",
    "else :\n",
    "    print ( \"this will complete while execution\")"
   ]
  },
  {
   "cell_type": "code",
   "execution_count": 18,
   "id": "5ed44656-a196-4985-98fe-fa2d557e519b",
   "metadata": {},
   "outputs": [
    {
     "name": "stdout",
     "output_type": "stream",
     "text": [
      "1\n",
      "2\n"
     ]
    }
   ],
   "source": [
    "n = 10\n",
    "a = 1\n",
    "while a < n :\n",
    "        print(a)\n",
    "        a = a +1\n",
    "        if  a == 3 :\n",
    "    \n",
    "           break\n",
    "else :\n",
    "    print ( \"this will complete while execution\")"
   ]
  },
  {
   "cell_type": "code",
   "execution_count": 19,
   "id": "92caac19-23e8-4bfd-8df8-147dfb50c0b6",
   "metadata": {},
   "outputs": [
    {
     "name": "stdout",
     "output_type": "stream",
     "text": [
      "2\n",
      "4\n",
      "5\n",
      "6\n",
      "7\n",
      "8\n",
      "9\n",
      "10\n",
      "this will complete while execution\n"
     ]
    }
   ],
   "source": [
    "n = 10\n",
    "a = 1\n",
    "while a < n :\n",
    "        \n",
    "        a = a +1\n",
    "        if  a == 3 :\n",
    "    \n",
    "           continue\n",
    "        print(a)\n",
    "else :\n",
    "    print ( \"this will complete while execution\")"
   ]
  },
  {
   "cell_type": "code",
   "execution_count": 20,
   "id": "4e388903-d1e5-4219-a9c7-c8ecf6ee70b9",
   "metadata": {},
   "outputs": [
    {
     "name": "stdout",
     "output_type": "stream",
     "text": [
      "d\n",
      "w\n",
      "a\n",
      "i\n",
      "p\n",
      "a\n",
      "y\n",
      "a\n",
      "n\n"
     ]
    }
   ],
   "source": [
    "d = 'dwaipayan'\n",
    "for i in d :\n",
    "    print(i)"
   ]
  },
  {
   "cell_type": "code",
   "execution_count": 28,
   "id": "cf6d2d1d-b950-428f-b0da-9452c83b8b53",
   "metadata": {},
   "outputs": [
    {
     "name": "stdout",
     "output_type": "stream",
     "text": [
      "2\n",
      "5\n",
      "6\n"
     ]
    }
   ],
   "source": [
    "l = [ 2,5,6,\"fdfdf\",3+4j ]\n",
    "for j in l :\n",
    "    print(j)\n",
    "    if j == 6 :\n",
    "      break\n",
    "    \n",
    "else :\n",
    "    print(\"this will be executed after for loop\")"
   ]
  },
  {
   "cell_type": "code",
   "execution_count": 29,
   "id": "86f7c657-925c-440d-9eda-9012416067ac",
   "metadata": {},
   "outputs": [
    {
     "name": "stdout",
     "output_type": "stream",
     "text": [
      "2\n",
      "5\n",
      "6\n",
      "fdfdf\n",
      "(3+4j)\n",
      "this will be executed after for loop\n"
     ]
    }
   ],
   "source": [
    "l = [ 2,5,6,\"fdfdf\",3+4j ]\n",
    "for j in l :\n",
    "    print(j)\n",
    "    if j == 6 :\n",
    "      continue\n",
    "    \n",
    "else :\n",
    "    print(\"this will be executed after for loop\")"
   ]
  },
  {
   "cell_type": "code",
   "execution_count": 30,
   "id": "3e4d551d-2e13-4075-b6b2-78d37487cc77",
   "metadata": {},
   "outputs": [
    {
     "name": "stdout",
     "output_type": "stream",
     "text": [
      "2\n",
      "5\n",
      "fdfdf\n",
      "(3+4j)\n",
      "this will be executed after for loop\n"
     ]
    }
   ],
   "source": [
    "l = [ 2,5,6,\"fdfdf\",3+4j ]\n",
    "for j in l :\n",
    "    \n",
    "    if j == 6 :\n",
    "      continue\n",
    "    print(j)\n",
    "    \n",
    "else :\n",
    "    print(\"this will be executed after for loop\")"
   ]
  },
  {
   "cell_type": "code",
   "execution_count": null,
   "id": "c52b157c-e0f7-49f5-b4fe-11c1d5862f29",
   "metadata": {},
   "outputs": [],
   "source": []
  }
 ],
 "metadata": {
  "kernelspec": {
   "display_name": "Python 3 (ipykernel)",
   "language": "python",
   "name": "python3"
  },
  "language_info": {
   "codemirror_mode": {
    "name": "ipython",
    "version": 3
   },
   "file_extension": ".py",
   "mimetype": "text/x-python",
   "name": "python",
   "nbconvert_exporter": "python",
   "pygments_lexer": "ipython3",
   "version": "3.10.8"
  }
 },
 "nbformat": 4,
 "nbformat_minor": 5
}
