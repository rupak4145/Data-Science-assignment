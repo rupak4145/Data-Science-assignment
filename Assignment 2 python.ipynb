{
  "metadata": {
    "language_info": {
      "codemirror_mode": {
        "name": "python",
        "version": 3
      },
      "file_extension": ".py",
      "mimetype": "text/x-python",
      "name": "python",
      "nbconvert_exporter": "python",
      "pygments_lexer": "ipython3",
      "version": "3.8"
    },
    "kernelspec": {
      "name": "python",
      "display_name": "Python (Pyodide)",
      "language": "python"
    }
  },
  "nbformat_minor": 4,
  "nbformat": 4,
  "cells": [
    {
      "cell_type": "raw",
      "source": "Create a python program to sort the given list of tuples based on integer value using a\nlambda function.\n[('Sachin Tendulkar', 34357), ('Ricky Ponting', 27483), ('Jack Kallis', 25534), ('Virat Kohli', 24936)]",
      "metadata": {}
    },
    {
      "cell_type": "code",
      "source": "data = [('Sachin Tendulkar', 34357), ('Ricky Ponting', 27483), ('Jack Kallis', 25534), ('Virat Kohli', 24936)]\n\nsorted_data = sorted(data, key=lambda x: x[1])\n\nfor item in sorted_data:\n    print(item)\n",
      "metadata": {
        "trusted": true
      },
      "execution_count": 6,
      "outputs": [
        {
          "name": "stdout",
          "text": "('Virat Kohli', 24936)\n('Jack Kallis', 25534)\n('Ricky Ponting', 27483)\n('Sachin Tendulkar', 34357)\n",
          "output_type": "stream"
        }
      ]
    },
    {
      "cell_type": "raw",
      "source": "Q2. Write a Python Program to find the squares of all the numbers in the given list of integers using\nlambda and map functions.\n[1, 2, 3, 4, 5, 6, 7, 8, 9, 10]",
      "metadata": {}
    },
    {
      "cell_type": "code",
      "source": "numbers = [1, 2, 3, 4, 5, 6, 7, 8, 9, 10]\nsquared_numbers = list(map(lambda x: x ** 2, numbers))\n\nprint(squared_numbers)\n",
      "metadata": {
        "trusted": true
      },
      "execution_count": 15,
      "outputs": [
        {
          "name": "stdout",
          "text": "[1, 4, 9, 16, 25, 36, 49, 64, 81, 100]\n",
          "output_type": "stream"
        }
      ]
    },
    {
      "cell_type": "raw",
      "source": "square of number",
      "metadata": {}
    },
    {
      "cell_type": "code",
      "source": "l1 = [4,5,6,7]",
      "metadata": {
        "trusted": true
      },
      "execution_count": 16,
      "outputs": []
    },
    {
      "cell_type": "code",
      "source": "squar_num = list(map(lambda x : x **2 , l1 ))",
      "metadata": {
        "trusted": true
      },
      "execution_count": 17,
      "outputs": []
    },
    {
      "cell_type": "code",
      "source": "print(squar_num)",
      "metadata": {
        "trusted": true
      },
      "execution_count": 18,
      "outputs": [
        {
          "name": "stdout",
          "text": "[16, 25, 36, 49]\n",
          "output_type": "stream"
        }
      ]
    },
    {
      "cell_type": "raw",
      "source": "Q3. Write a python program to convert the given list of integers into a tuple of strings. Use map and\nlambda functions\nGiven String: [1, 2, 3, 4, 5, 6, 7, 8, 9, 10]\nExpected output: ('1', '2', '3', '4', '5', '6', '7', '8', '9', '10')",
      "metadata": {}
    },
    {
      "cell_type": "code",
      "source": "list_1 = [1, 2, 3, 4, 5, 6, 7, 8, 9, 10]\nconverted_tuple = tuple(map(lambda x : str(x), list_1 ))",
      "metadata": {
        "trusted": true
      },
      "execution_count": 19,
      "outputs": []
    },
    {
      "cell_type": "code",
      "source": "print(converted_tuple)",
      "metadata": {
        "trusted": true
      },
      "execution_count": 20,
      "outputs": [
        {
          "name": "stdout",
          "text": "('1', '2', '3', '4', '5', '6', '7', '8', '9', '10')\n",
          "output_type": "stream"
        }
      ]
    },
    {
      "cell_type": "raw",
      "source": "Write a python program using reduce function to compute the product of a list containing numbers\nfrom 1 to 25.",
      "metadata": {}
    },
    {
      "cell_type": "code",
      "source": "from functools import reduce\n\n# Define the product function\ndef multiply(x, y):\n    return x * y\n\n# Create a list containing numbers from 1 to 25\nnumbers = list(range(1, 26))\n\n# Use the reduce function to compute the product\nproduct = reduce(multiply, numbers)\n\nprint(\"Product:\", product)\n",
      "metadata": {
        "trusted": true
      },
      "execution_count": 30,
      "outputs": [
        {
          "name": "stdout",
          "text": "Product: 15511210043330985984000000\n",
          "output_type": "stream"
        }
      ]
    },
    {
      "cell_type": "raw",
      "source": "Write a python program to filter the numbers in a given list that are divisible by 2 and 3 using the\nfilter function.\n[2, 3, 6, 9, 27, 60, 90, 120, 55, 46]",
      "metadata": {}
    },
    {
      "cell_type": "code",
      "source": "l2 = [2, 3, 6, 9, 27, 60, 90, 120, 55, 46]\nl3 = list(filter(lambda x : x % 2 == 0 and x % 3 == 0 , l2))\nprint(l3)",
      "metadata": {
        "trusted": true
      },
      "execution_count": 35,
      "outputs": [
        {
          "name": "stdout",
          "text": "[6, 60, 90, 120]\n",
          "output_type": "stream"
        }
      ]
    },
    {
      "cell_type": "code",
      "source": "",
      "metadata": {},
      "execution_count": null,
      "outputs": []
    }
  ]
}