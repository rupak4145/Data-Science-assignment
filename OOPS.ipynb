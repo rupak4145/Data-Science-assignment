{
  "metadata": {
    "language_info": {
      "codemirror_mode": {
        "name": "python",
        "version": 3
      },
      "file_extension": ".py",
      "mimetype": "text/x-python",
      "name": "python",
      "nbconvert_exporter": "python",
      "pygments_lexer": "ipython3",
      "version": "3.8"
    },
    "kernelspec": {
      "name": "python",
      "display_name": "Python (Pyodide)",
      "language": "python"
    }
  },
  "nbformat_minor": 4,
  "nbformat": 4,
  "cells": [
    {
      "cell_type": "code",
      "source": "class test:\n    pass",
      "metadata": {
        "trusted": true
      },
      "execution_count": 1,
      "outputs": []
    },
    {
      "cell_type": "code",
      "source": "test",
      "metadata": {
        "trusted": true
      },
      "execution_count": 2,
      "outputs": [
        {
          "execution_count": 2,
          "output_type": "execute_result",
          "data": {
            "text/plain": "__main__.test"
          },
          "metadata": {}
        }
      ]
    },
    {
      "cell_type": "code",
      "source": "",
      "metadata": {},
      "execution_count": null,
      "outputs": []
    },
    {
      "cell_type": "raw",
      "source": "class test1:\n    pass\na = test1()\n\nprint(type(a))",
      "metadata": {}
    },
    {
      "cell_type": "raw",
      "source": "#class ,  objects and method or function in one syntax",
      "metadata": {}
    },
    {
      "cell_type": "code",
      "source": "class pwskills:\n    def welcome_msg(self):\n        print(\"Welcome to school\")\n        \nrohan = pwskills()\nprint(type(rohan))",
      "metadata": {
        "trusted": true
      },
      "execution_count": 12,
      "outputs": [
        {
          "name": "stdout",
          "text": "<class '__main__.pwskills'>\n",
          "output_type": "stream"
        }
      ]
    },
    {
      "cell_type": "code",
      "source": "rohan.welcome_msg()",
      "metadata": {
        "trusted": true
      },
      "execution_count": 13,
      "outputs": [
        {
          "name": "stdout",
          "text": "Welcome to school\n",
          "output_type": "stream"
        }
      ]
    },
    {
      "cell_type": "raw",
      "source": "#Use of contructor in python",
      "metadata": {}
    },
    {
      "cell_type": "code",
      "source": "class pwskills1 :\n    \n    def __init__(self ,phone_number , email_id , student_id ):\n        self.phone_number = phone_number\n        self.email_id = email_id\n        self.student_id = student_id\n    \n    def return_student_deetials(self) : \n        return self.student_id ,self.phone_number ,self.email_id\n    ",
      "metadata": {},
      "execution_count": null,
      "outputs": [
        {
          "ename": "<class 'SyntaxError'>",
          "evalue": "invalid syntax (<ipython-input-23-08b0b5341c86>, line 3)",
          "traceback": [
            "\u001b[0;36m  Cell \u001b[0;32mIn[23], line 3\u001b[0;36m\u001b[0m\n\u001b[0;31m    def__init__( self , email_id, roll_no, student_id ) :\u001b[0m\n\u001b[0m                                                        ^\u001b[0m\n\u001b[0;31mSyntaxError\u001b[0m\u001b[0;31m:\u001b[0m invalid syntax\n"
          ],
          "output_type": "error"
        }
      ]
    },
    {
      "cell_type": "code",
      "source": "rohan = pwskills1(122232432342, \"rohan@gmail.com\" , 101)",
      "metadata": {
        "trusted": true
      },
      "execution_count": 24,
      "outputs": [
        {
          "ename": "<class 'NameError'>",
          "evalue": "name 'pwskills1' is not defined",
          "traceback": [
            "\u001b[0;31m---------------------------------------------------------------------------\u001b[0m",
            "\u001b[0;31mNameError\u001b[0m                                 Traceback (most recent call last)",
            "Cell \u001b[0;32mIn[24], line 1\u001b[0m\n\u001b[0;32m----> 1\u001b[0m rohan \u001b[38;5;241m=\u001b[39m \u001b[43mpwskills1\u001b[49m(\u001b[38;5;241m122232432342\u001b[39m, \u001b[38;5;124m\"\u001b[39m\u001b[38;5;124mrohan@gmail.com\u001b[39m\u001b[38;5;124m\"\u001b[39m , \u001b[38;5;241m101\u001b[39m)\n",
            "\u001b[0;31mNameError\u001b[0m: name 'pwskills1' is not defined"
          ],
          "output_type": "error"
        }
      ]
    },
    {
      "cell_type": "code",
      "source": "rohan.return_student_deetials()",
      "metadata": {
        "trusted": true
      },
      "execution_count": 25,
      "outputs": [
        {
          "ename": "<class 'AttributeError'>",
          "evalue": "'pwskills' object has no attribute 'return_student_deetials'",
          "traceback": [
            "\u001b[0;31m---------------------------------------------------------------------------\u001b[0m",
            "\u001b[0;31mAttributeError\u001b[0m                            Traceback (most recent call last)",
            "Cell \u001b[0;32mIn[25], line 1\u001b[0m\n\u001b[0;32m----> 1\u001b[0m \u001b[43mrohan\u001b[49m\u001b[38;5;241;43m.\u001b[39;49m\u001b[43mreturn_student_deetials\u001b[49m()\n",
            "\u001b[0;31mAttributeError\u001b[0m: 'pwskills' object has no attribute 'return_student_deetials'"
          ],
          "output_type": "error"
        }
      ]
    },
    {
      "cell_type": "raw",
      "source": "#polymorphism",
      "metadata": {}
    },
    {
      "cell_type": "code",
      "source": "def test(a , b):\n    return a+b\ntest( 3, 4)",
      "metadata": {
        "trusted": true
      },
      "execution_count": 26,
      "outputs": [
        {
          "execution_count": 26,
          "output_type": "execute_result",
          "data": {
            "text/plain": "7"
          },
          "metadata": {}
        }
      ]
    },
    {
      "cell_type": "code",
      "source": "test(\"sudh\" , \" kumar\")",
      "metadata": {
        "trusted": true
      },
      "execution_count": 28,
      "outputs": [
        {
          "execution_count": 28,
          "output_type": "execute_result",
          "data": {
            "text/plain": "'sudh kumar'"
          },
          "metadata": {}
        }
      ]
    },
    {
      "cell_type": "code",
      "source": "test([1,2,3,4,5], [6,7,8,9])",
      "metadata": {
        "trusted": true
      },
      "execution_count": 30,
      "outputs": [
        {
          "execution_count": 30,
          "output_type": "execute_result",
          "data": {
            "text/plain": "[1, 2, 3, 4, 5, 6, 7, 8, 9]"
          },
          "metadata": {}
        }
      ]
    },
    {
      "cell_type": "raw",
      "source": "#if we see above example we can see that the same test function return addition for integer",
      "metadata": {}
    },
    {
      "cell_type": "raw",
      "source": "but concatenation for string and list. This is called polymorphism",
      "metadata": {}
    },
    {
      "cell_type": "code",
      "source": "#polymorphism and class",
      "metadata": {
        "trusted": true
      },
      "execution_count": 32,
      "outputs": []
    },
    {
      "cell_type": "code",
      "source": "class data_science:\n    def syllabus(self) :\n        print(\"This is my syllabus for data science\")\nclass web_dev:\n    def syllabus(self) :\n        print(\"This is my syllabus for web development\")\ndef class_parcer(class_object):\n              for i in class_object:\n                  i.syllabus()\nmachine = data_science()\njava =   web_dev()   \nclass_object = [machine , java]\nclass_parcer(class_object)              ",
      "metadata": {
        "trusted": true
      },
      "execution_count": 36,
      "outputs": [
        {
          "name": "stdout",
          "text": "This is my syllabus for data science\nThis is my syllabus for web development\n",
          "output_type": "stream"
        }
      ]
    },
    {
      "cell_type": "raw",
      "source": "#encapsulation",
      "metadata": {}
    },
    {
      "cell_type": "code",
      "source": "",
      "metadata": {},
      "execution_count": null,
      "outputs": []
    }
  ]
}