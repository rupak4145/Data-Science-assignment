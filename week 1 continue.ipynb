{
 "cells": [
  {
   "cell_type": "code",
   "execution_count": 1,
   "id": "86ebcda0-1af0-45b4-a36a-01daa0cd08f6",
   "metadata": {},
   "outputs": [
    {
     "name": "stdin",
     "output_type": "stream",
     "text": [
      "Enter the value of A:  64\n",
      "Enter the value of B:  8\n"
     ]
    },
    {
     "name": "stdout",
     "output_type": "stream",
     "text": [
      "The no is purely divisible\n"
     ]
    }
   ],
   "source": [
    "# Taking input for A and B\n",
    "A = int(input(\"Enter the value of A: \"))\n",
    "B = int(input(\"Enter the value of B: \"))\n",
    "\n",
    "# Initializing a counter to keep track of the number of divisions\n",
    "count = 0\n",
    "\n",
    "# Using a while loop to perform division until A is greater than or equal to B\n",
    "while A >= B:\n",
    "    A = A - B  # Subtract B from A\n",
    "    count += 1  # Increment the counter\n",
    "\n",
    "# Checking if A has become 0 to confirm pure divisibility\n",
    "if A == 0:\n",
    "    print(\"The no is purely divisible\")\n",
    "else:\n",
    "    print(\"The no is not purely divisible\")"
   ]
  },
  {
   "cell_type": "code",
   "execution_count": 6,
   "id": "58a6ed65-0773-4fbc-aed5-f5321a033609",
   "metadata": {},
   "outputs": [
    {
     "name": "stdout",
     "output_type": "stream",
     "text": [
      "The no is not divisible\n",
      "The  no is divisible by 3\n",
      "The  no is divisible by 3\n",
      "The  no is divisible by 3\n",
      "The  no is divisible by 3\n",
      "The no is not divisible\n",
      "The no is not divisible\n",
      "The  no is divisible by 3\n",
      "The  no is divisible by 3\n",
      "The no is not divisible\n",
      "The  no is divisible by 3\n",
      "The no is not divisible\n",
      "The  no is divisible by 3\n"
     ]
    }
   ],
   "source": [
    "number = [2,3,9,15,27,22,5,33,36,38,39,40,42]\n",
    "for i in number :\n",
    "    if i % 3 ==0 :\n",
    "        print(\"The  no is divisible by 3\")\n",
    "    else :\n",
    "        print(\"The no is not divisible\")"
   ]
  },
  {
   "cell_type": "code",
   "execution_count": null,
   "id": "e94e44db-ca02-4b4c-937a-b767c1a975d9",
   "metadata": {},
   "outputs": [],
   "source": []
  }
 ],
 "metadata": {
  "kernelspec": {
   "display_name": "Python 3 (ipykernel)",
   "language": "python",
   "name": "python3"
  },
  "language_info": {
   "codemirror_mode": {
    "name": "ipython",
    "version": 3
   },
   "file_extension": ".py",
   "mimetype": "text/x-python",
   "name": "python",
   "nbconvert_exporter": "python",
   "pygments_lexer": "ipython3",
   "version": "3.10.8"
  }
 },
 "nbformat": 4,
 "nbformat_minor": 5
}
