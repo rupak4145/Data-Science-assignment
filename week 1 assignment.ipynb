{
 "cells": [
  {
   "cell_type": "code",
   "execution_count": null,
   "id": "5fbb2ae1-0cbc-4b89-9aae-a23c982f655d",
   "metadata": {},
   "outputs": [],
   "source": [
    "#1. #Q1. Create one variable containing following type of data:\n",
    "\n",
    "#(i) string\n",
    "\n",
    "#(ii) list\n",
    "\n",
    "#(iii) float\n",
    "\n",
    "#(iv) tuple\n",
    "\n"
   ]
  },
  {
   "cell_type": "code",
   "execution_count": null,
   "id": "40a1437f-a2f2-4b82-8c72-5315818e5ef4",
   "metadata": {},
   "outputs": [],
   "source": [
    "dwaipayan"
   ]
  },
  {
   "cell_type": "code",
   "execution_count": null,
   "id": "10c888b2-363c-4f3e-a9b1-d318d174636e",
   "metadata": {},
   "outputs": [],
   "source": [
    "l = [ 1,4,5,'ram',6+7j]"
   ]
  },
  {
   "cell_type": "code",
   "execution_count": null,
   "id": "48462a4a-ad8c-46b4-b147-b75377fbb9de",
   "metadata": {},
   "outputs": [],
   "source": [
    "f = 3.40"
   ]
  },
  {
   "cell_type": "code",
   "execution_count": null,
   "id": "52f0f5c4-bfc5-4457-833b-019b846937cd",
   "metadata": {},
   "outputs": [],
   "source": [
    "ar = (\"Geeks\", \"for\", \"Geeks\")"
   ]
  },
  {
   "cell_type": "code",
   "execution_count": null,
   "id": "9bd8aa55-9a4d-4fbc-b767-f1093278e6be",
   "metadata": {},
   "outputs": [],
   "source": [
    "#Q2. Given are some following variables containing data:\n",
    "\n",
    "#(i) var1 = ‘ ‘\n",
    "\n",
    "#(ii) var2 = ‘[ DS , ML , Python]’\n",
    "\n",
    "#(iii) var3 = [ ‘DS’ , ’ML’ , ‘Python’ ]\n",
    "\n",
    "#(iv) var4 = 1.\n",
    "\n",
    "\n",
    "#What will be the data type of the above given variable.\n",
    "\n"
   ]
  },
  {
   "cell_type": "code",
   "execution_count": null,
   "id": "f5795e94-839d-4236-8bbf-8902b68e6717",
   "metadata": {},
   "outputs": [],
   "source": [
    "#Answer : string , string, list,integer"
   ]
  },
  {
   "cell_type": "code",
   "execution_count": null,
   "id": "88b61e00-7919-42b8-974e-29b9efc55a26",
   "metadata": {},
   "outputs": [],
   "source": [
    "#Q3. Explain the use of the following operators using an example:\n",
    "\n",
    "#(i) /\n",
    "\n",
    "#(ii) %\n",
    "#(iii) //\n",
    "\n",
    "#(iv) **\n",
    "\n"
   ]
  },
  {
   "cell_type": "code",
   "execution_count": null,
   "id": "ea6b1897-ff22-456b-a63f-143d44650e56",
   "metadata": {},
   "outputs": [],
   "source": [
    "#Ans : division, reminder, comment, power of two"
   ]
  },
  {
   "cell_type": "code",
   "execution_count": 1,
   "id": "c060d98a-203f-4eb0-a3a1-9052f1d24385",
   "metadata": {},
   "outputs": [
    {
     "ename": "SyntaxError",
     "evalue": "invalid syntax (3716359849.py, line 1)",
     "output_type": "error",
     "traceback": [
      "\u001b[0;36m  Cell \u001b[0;32mIn[1], line 1\u001b[0;36m\u001b[0m\n\u001b[0;31m    Create a list of length 10 of your choice containing multiple types of data. Using for loop print the\u001b[0m\n\u001b[0m           ^\u001b[0m\n\u001b[0;31mSyntaxError\u001b[0m\u001b[0;31m:\u001b[0m invalid syntax\n"
     ]
    }
   ],
   "source": [
    "#Create a list of length 10 of your choice containing multiple types of data. Using for loop print the\n",
    "#element and its data type.\n",
    "\n"
   ]
  },
  {
   "cell_type": "code",
   "execution_count": 15,
   "id": "03cb596f-4b67-4350-b4cf-b66d83f08034",
   "metadata": {},
   "outputs": [
    {
     "name": "stdout",
     "output_type": "stream",
     "text": [
      "2\n",
      "<class 'int'>\n",
      "4\n",
      "<class 'int'>\n",
      "5\n",
      "<class 'int'>\n",
      "True\n",
      "<class 'bool'>\n",
      "7j\n",
      "<class 'complex'>\n",
      "PW Skills lab\n",
      "<class 'str'>\n",
      "4.11\n",
      "<class 'float'>\n",
      "[33, 44]\n",
      "<class 'list'>\n",
      "8\n",
      "<class 'int'>\n",
      "10\n",
      "<class 'int'>\n"
     ]
    }
   ],
   "source": [
    "p = [ 2,4,5,True,7j,\"PW Skills lab\",4.11,[33,44],8,10 ]\n",
    "for i in p :\n",
    "    print(i)\n",
    "    print(type(i))\n"
   ]
  },
  {
   "cell_type": "code",
   "execution_count": 16,
   "id": "d86c393b-d978-4183-b333-96804e8de186",
   "metadata": {},
   "outputs": [
    {
     "ename": "SyntaxError",
     "evalue": "invalid syntax (1191387916.py, line 1)",
     "output_type": "error",
     "traceback": [
      "\u001b[0;36m  Cell \u001b[0;32mIn[16], line 1\u001b[0;36m\u001b[0m\n\u001b[0;31m    Using a while loop, verify if the number A is purely divisible by number B and if so then how many\u001b[0m\n\u001b[0m          ^\u001b[0m\n\u001b[0;31mSyntaxError\u001b[0m\u001b[0;31m:\u001b[0m invalid syntax\n"
     ]
    }
   ],
   "source": [
    "#Using a while loop, verify if the number A is purely divisible by number B and if so then how many\n",
    "#times it can be divisible.\n",
    "\n"
   ]
  },
  {
   "cell_type": "code",
   "execution_count": null,
   "id": "316722d2-34fd-4513-b7ef-4f1d518b504a",
   "metadata": {},
   "outputs": [],
   "source": [
    "# Taking input for A and B\n",
    "A = int(input(\"Enter the value of A: \"))\n",
    "B = int(input(\"Enter the value of B: \"))\n",
    "\n",
    "# Initializing a counter to keep track of the number of divisions\n",
    "count = 0\n",
    "\n",
    "# Using a while loop to perform division until A is greater than or equal to B\n",
    "while A >= B:\n",
    "    A = A - B  # Subtract B from A\n",
    "    count += 1  # Increment the counter\n",
    "\n",
    "# Checking if A has become 0 to confirm pure divisibility\n",
    "if A == 0:\n",
    "    print(\"The no is purely divisible\")\n",
    "else:\n",
    "    print(\"The no is not purely divisible\")\n"
   ]
  },
  {
   "cell_type": "code",
   "execution_count": null,
   "id": "3f48355b-a7e8-4ae7-8fa7-fe4117ca2a32",
   "metadata": {},
   "outputs": [],
   "source": []
  },
  {
   "cell_type": "code",
   "execution_count": null,
   "id": "d6fa7255-74d4-48d1-a091-a41d5a7fb035",
   "metadata": {},
   "outputs": [],
   "source": []
  },
  {
   "cell_type": "code",
   "execution_count": null,
   "id": "609fbcc4-12c4-4022-ba96-e99b91065214",
   "metadata": {},
   "outputs": [],
   "source": []
  }
 ],
 "metadata": {
  "kernelspec": {
   "display_name": "Python 3 (ipykernel)",
   "language": "python",
   "name": "python3"
  },
  "language_info": {
   "codemirror_mode": {
    "name": "ipython",
    "version": 3
   },
   "file_extension": ".py",
   "mimetype": "text/x-python",
   "name": "python",
   "nbconvert_exporter": "python",
   "pygments_lexer": "ipython3",
   "version": "3.10.8"
  }
 },
 "nbformat": 4,
 "nbformat_minor": 5
}
