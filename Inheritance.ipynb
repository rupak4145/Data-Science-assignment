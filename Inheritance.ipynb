{
  "metadata": {
    "language_info": {
      "codemirror_mode": {
        "name": "python",
        "version": 3
      },
      "file_extension": ".py",
      "mimetype": "text/x-python",
      "name": "python",
      "nbconvert_exporter": "python",
      "pygments_lexer": "ipython3",
      "version": "3.8"
    },
    "kernelspec": {
      "name": "python",
      "display_name": "Python (Pyodide)",
      "language": "python"
    }
  },
  "nbformat_minor": 4,
  "nbformat": 4,
  "cells": [
    {
      "cell_type": "raw",
      "source": "#Inheritance example",
      "metadata": {}
    },
    {
      "cell_type": "code",
      "source": "class parent() :\n    def method_1(self):\n        return \"This is my first parent class\"\n",
      "metadata": {
        "trusted": true
      },
      "execution_count": 4,
      "outputs": []
    },
    {
      "cell_type": "code",
      "source": "class child(parent):\n    pass\n",
      "metadata": {
        "trusted": true
      },
      "execution_count": 5,
      "outputs": []
    },
    {
      "cell_type": "code",
      "source": "first_child_object = child()\nfirst_child_object.method_1()",
      "metadata": {
        "trusted": true
      },
      "execution_count": 8,
      "outputs": [
        {
          "execution_count": 8,
          "output_type": "execute_result",
          "data": {
            "text/plain": "'This is my first parent class'"
          },
          "metadata": {}
        }
      ]
    },
    {
      "cell_type": "raw",
      "source": "in above example we can call the first class inside the child and then call the method inside it. This is called Inheritance.So we can see that the child  class inherit the property of the parent class.",
      "metadata": {}
    },
    {
      "cell_type": "raw",
      "source": "#Multilayered inheritance. When one class inherit property of its parent classes( parent and parent class) then it is called multilayered inheritance",
      "metadata": {}
    },
    {
      "cell_type": "code",
      "source": "class first_class:\n    def first_class_method(self):\n        return \"This is first class return\"",
      "metadata": {
        "trusted": true
      },
      "execution_count": 10,
      "outputs": []
    },
    {
      "cell_type": "code",
      "source": "class second_class(first_class):\n    def second_class_method(self):\n        return \"This is second class return\"",
      "metadata": {
        "trusted": true
      },
      "execution_count": 11,
      "outputs": []
    },
    {
      "cell_type": "code",
      "source": "class third_class(second_class):\n    pass",
      "metadata": {
        "trusted": true
      },
      "execution_count": 12,
      "outputs": []
    },
    {
      "cell_type": "code",
      "source": "class_third_class_object = third_class()\nclass_third_class_object.first_class_method()",
      "metadata": {
        "trusted": true
      },
      "execution_count": 13,
      "outputs": [
        {
          "execution_count": 13,
          "output_type": "execute_result",
          "data": {
            "text/plain": "'This is first class return'"
          },
          "metadata": {}
        }
      ]
    },
    {
      "cell_type": "code",
      "source": "class_third_class_object.second_class_method()",
      "metadata": {
        "trusted": true
      },
      "execution_count": 14,
      "outputs": [
        {
          "execution_count": 14,
          "output_type": "execute_result",
          "data": {
            "text/plain": "'This is second class return'"
          },
          "metadata": {}
        }
      ]
    },
    {
      "cell_type": "raw",
      "source": "#From above example we can see that the third class inherit both first class and second class property.",
      "metadata": {}
    },
    {
      "cell_type": "raw",
      "source": "#Multiple inheritance. When a class inherist two classes( both classes separated), then it is called multiple inheritance",
      "metadata": {}
    },
    {
      "cell_type": "code",
      "source": "class class1:\n    def class1_method(self):\n        return \"First class return statement\"",
      "metadata": {
        "trusted": true
      },
      "execution_count": 16,
      "outputs": []
    },
    {
      "cell_type": "code",
      "source": "class class2:\n    def class2_method(self):\n        return \" Second class return statement\"",
      "metadata": {
        "trusted": true
      },
      "execution_count": 17,
      "outputs": []
    },
    {
      "cell_type": "code",
      "source": "class class3(class1, class2):\n       pass",
      "metadata": {
        "trusted": true
      },
      "execution_count": 20,
      "outputs": []
    },
    {
      "cell_type": "code",
      "source": "class3_object = class3()",
      "metadata": {
        "trusted": true
      },
      "execution_count": 21,
      "outputs": []
    },
    {
      "cell_type": "code",
      "source": "class3_object.class1_method()",
      "metadata": {
        "trusted": true
      },
      "execution_count": 22,
      "outputs": [
        {
          "execution_count": 22,
          "output_type": "execute_result",
          "data": {
            "text/plain": "'First class return statement'"
          },
          "metadata": {}
        }
      ]
    },
    {
      "cell_type": "code",
      "source": "class3_object.class2_method()",
      "metadata": {
        "trusted": true
      },
      "execution_count": 23,
      "outputs": [
        {
          "execution_count": 23,
          "output_type": "execute_result",
          "data": {
            "text/plain": "' Second class return statement'"
          },
          "metadata": {}
        }
      ]
    },
    {
      "cell_type": "code",
      "source": "",
      "metadata": {},
      "execution_count": null,
      "outputs": []
    }
  ]
}